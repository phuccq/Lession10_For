{
 "cells": [
  {
   "cell_type": "code",
   "execution_count": 38,
   "id": "de394948",
   "metadata": {},
   "outputs": [
    {
     "name": "stdout",
     "output_type": "stream",
     "text": [
      "Nhập vào dãy số nguyên dương: 2 35 456 87 0\n",
      "Số chẵn lớn nhất là 456\n",
      "Số lẻ nhỏ nhất là 35\n"
     ]
    }
   ],
   "source": [
    "# Bài thực hành 6: Tìm số chẵn lớn nhất và số lẻ nhỏ nhất trong dãy số được nhập vào từ người dùng\n",
    "try:\n",
    "    chuoi = input(\"Nhập vào dãy số nguyên dương: \").split(\" \")\n",
    "    min_odd = 0\n",
    "    max_even = 0\n",
    "    for i in chuoi:  \n",
    "        if int(i) % 2 == 0:\n",
    "            if int(i) > max_even:\n",
    "                max_even = int(i)        \n",
    "            else:\n",
    "                max_even = max_even\n",
    "        else:\n",
    "            if min_odd == 0:\n",
    "                min_odd = int(i)\n",
    "            else:\n",
    "                if int(i) < min_odd:\n",
    "                    min_odd = int(i)\n",
    "                else:\n",
    "                    min_odd = min_odd                   \n",
    "    print(f\"Số chẵn lớn nhất là {max_even}\\nSố lẻ nhỏ nhất là {min_odd}\")\n",
    "except ValueError:\n",
    "    print(\"Dữ liệu không hợp lệ\")"
   ]
  },
  {
   "cell_type": "code",
   "execution_count": null,
   "id": "c4d9d245",
   "metadata": {},
   "outputs": [],
   "source": []
  }
 ],
 "metadata": {
  "kernelspec": {
   "display_name": "Python 3 (ipykernel)",
   "language": "python",
   "name": "python3"
  },
  "language_info": {
   "codemirror_mode": {
    "name": "ipython",
    "version": 3
   },
   "file_extension": ".py",
   "mimetype": "text/x-python",
   "name": "python",
   "nbconvert_exporter": "python",
   "pygments_lexer": "ipython3",
   "version": "3.9.12"
  }
 },
 "nbformat": 4,
 "nbformat_minor": 5
}
